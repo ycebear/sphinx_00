{
 "cells": [
  {
   "cell_type": "code",
   "execution_count": null,
   "id": "d5627cb7-d38e-4ca9-b538-7496cefa6bad",
   "metadata": {},
   "outputs": [],
   "source": []
  },
  {
   "cell_type": "markdown",
   "id": "98ad4396-b3e2-4e2d-b784-449afc107cfd",
   "metadata": {},
   "source": [
    ".. _settingup:"
   ]
  },
  {
   "cell_type": "markdown",
   "id": "58febc0c-19f5-46bc-9e7b-46a8f8a6e32b",
   "metadata": {},
   "source": [
    "# How to generate documentations"
   ]
  },
  {
   "cell_type": "markdown",
   "id": "eb4a15e5-7e2b-45e5-9c3f-6a20a15fb9dc",
   "metadata": {},
   "source": [
    "# With Sphinx and GitHub\n",
    "\n",
    "## good to know\n",
    "\n",
    "- Git is an open source base technology for data storing with version management\n",
    "- GitHub and GitLab use Git as a core but offer some additional functionalities\n",
    "- GitHub and GitLab have - beside using Git as core - nothing in common: they are different communities and/or have different owners\n",
    "\n",
    "## prepare\n",
    "\n",
    "- have Python installed, [MINICONDA](https://docs.conda.io/en/latest/miniconda.html) e.g.\n",
    "    - install missing packeges with: 'conda install newPackage'\n",
    "    - or when troubles have come up try: 'conda install -c anaconda newPackage'\n",
    "- know how to start a CMD command line window from Anaconda or Miniconda\n",
    "    - click the windows sign at the bottom-left corner of your screen\n",
    "    - look for 'Anaconda' in the application list\n",
    "    - select 'Anaconda prompt'\n",
    "    - here you can run installations of Python packages\n",
    "    - in order to work on your project: navigate with the 'cd'-command to your project directory\n",
    "- know how to start Jupyter under Miniconda\n",
    "    - start a CMD command line window from Anaconda or Miniconda\n",
    "    - navigate with the 'cd'-command to your project directory\n",
    "    - 'jupyter notebook' (enter)\n",
    "    - switch to the newer Lab-version: in the URL delete 'tree' and write 'lab' instead\n",
    "- Download and install the latest version of Git: [https://git-scm.com/downloads](https://git-scm.com/downloads)\n",
    "- have a GitHub account [https://github.com/](https://github.com/)\n",
    "\n",
    "## do the following setps\n",
    "\n",
    "1. login at your GitHub account\n",
    "2. create a new repository\n",
    "3. creat a new (even empty) file in the repository\n",
    "3. clone the repository to your local desktop\n",
    "    - prepare a directory first on your local desktop\n",
    "    - start a CMD command line window from Anaconda or Miniconda\n",
    "    - navigate with 'cd'-commands to the prepared directory\n",
    "    - on GitHub: --> Code --> Clone --> copy the URL\n",
    "    - on desktop CDM: type 'git clone' and paste the URL behind (enter)\n",
    "4. start a new sphinx project with: 'sphinx-quickstart'\n",
    "5. modify the index.rst as you want (save it)\n",
    "5. 'make html' (enter)\n",
    "6. go to --> build --> html --> index.html (start it in your browser)\n",
    "\n",
    "## choose a theme\n",
    "\n",
    "1. make a choice here: [https://sphinx-themes.org/](https://sphinx-themes.org/)\n",
    "2. click on the theme to see a sample website with this theme\n",
    "3. look how to call the theme:\n",
    "    - import sphinx_redactor_theme\n",
    "    - html_theme = 'sphinx_redactor_theme'\n",
    "    - html_theme_path = [sphinx_redactor_theme.get_html_theme_path()]\n",
    "4. install the theme with: pip install sphinx_redactor_theme\n",
    "5. open 'source/conf.py'\n",
    "6. replace the theme setting to:\n",
    "    - import sphinx_redactor_theme\n",
    "    - html_theme = 'sphinx_redactor_theme'\n",
    "    - html_theme_path = [sphinx_redactor_theme.get_html_theme_path()]\n",
    "5. 'make html' (enter)\n",
    "6. go to --> build --> html --> index.html (start it in your browser)\n",
    "\n",
    "## upload to github\n",
    "\n",
    "- create a file '.gitignore' to tell git, which files not to upload\n",
    "    - upload the rst sources only\n",
    "    - all other files prevent form uploading wit gitignore\n",
    "    - read_the_docs will render the rst-files\n",
    "- for a check: 'git status'\n",
    "- 'git add .' (enter in the CMD command window, note space point)\n",
    "- 'git commit .' (enter in the CMD command window, note space point)\n",
    "- 'git push' (enter in the CMD command window, note space point)\n",
    "\n",
    "## transfer to read_the_docs and publish it\n",
    "\n",
    "- create an account [https://readthedocs.org/](https://readthedocs.org/)\n",
    "- login at read_the_docs\n",
    "- --> import a project (manually)\n",
    "- Name is the repository name at read_the_docs\n",
    "- RepositoryURL is the URL of the GitHub-repository (copy it from GitHub)\n",
    "- --> next --> build --> view docs\n"
   ]
  },
  {
   "cell_type": "markdown",
   "id": "10f29d16-8f79-47cb-a131-08b07354a226",
   "metadata": {},
   "source": [
    "## Helpful ressources\n",
    "\n",
    "**Sphinx Tutorial** lean and useful\n",
    "\n",
    "- 1: setup: https://www.youtube.com/watch?v=WcUhGT4rs5o\n",
    "- 2: themes: https://www.youtube.com/watch?v=RvJ54ADcVno\n",
    "- 3: to format with reSt: https://www.youtube.com/watch?v=DSIuLnoKLd8\n",
    "- 4: Push docs to github: https://www.youtube.com/watch?v=DSIuLnoKLd8\n",
    "\n",
    "**Sphinx Templates**\n",
    "\n",
    "- https://www.youtube.com/watch?v=Zb_Oy5UG6Tw\n",
    "- https://sphinx-themes.org/sample-sites/sphinx-theme-pd/\n",
    "- https://sphinx-themes.org/sample-sites/sphinx-pdj-theme/\n",
    "- https://sphinx-themes.org/sample-sites/sphinx-adc-theme/\n",
    "- https://sphinx-themes.org/sample-sites/groundwork-sphinx-theme/\n",
    "- https://sphinx-themes.org/sample-sites/sphinx-sizzle-theme/\n",
    "- **https://sphinx-themes.org/sample-sites/sphinx-redactor-theme/**\n",
    "- https://sphinx-themes.org/\n",
    "- https://sphinxawesome.xyz/how-to/modify/   how to modify themes\n",
    "\n",
    "**Applied example with eplanations**\n",
    "\n",
    "- https://geo-python-site.readthedocs.io/en/latest/lessons/L1/course-environment-components.html\n",
    "- https://geo-python-site.readthedocs.io/en/latest/index.html\n",
    "\n",
    "\n",
    "**GitHub, Jupyter**\n",
    "\n",
    "- https://blog.reviewnb.com/github-jupyter-notebook/\n",
    "- https://stackoverflow.com/questions/48003022/jupyter-notebook-and-github\n",
    "- https://thenewstack.io/integrate-jupyter-notebooks-with-github/\n",
    "\n",
    "\n",
    "\n",
    "**Collection**\n",
    "\n",
    "- https://www.bing.com/videos/search?q=using+sphinx+for+documentation&&view=detail&mid=4E8351B155222C9821484E8351B155222C982148&&FORM=VRDGAR&ru=%2Fvideos%2Fsearch%3Fq%3Dusing%2520sphinx%2520for%2520documentation%26qs%3DUT%26form%3DQBVR%26sp%3D3%26pq%3Dusing%2520sphinx%2520%26sk%3DHS1UT1%26sc%3D3-13%26cvid%3D5C7C670902F041679AAF81D1D4C8726E%26ajf%3D70"
   ]
  },
  {
   "cell_type": "markdown",
   "id": "f9273575-485d-401f-aabf-02b8d0e51150",
   "metadata": {},
   "source": [
    "## Sphinx with Markdown\n",
    "\n",
    "- https://www.sphinx-doc.org/en/master/usage/markdown.html\n",
    "- https://buildmedia.readthedocs.org/media/pdf/rtd-md-test/master/rtd-md-test.pdf\n",
    "- https://medium.com/@vvvlad42/create-great-documentation-with-sphinx-and-markdown-175c4017ae5a\n",
    "- https://www.jetbrains.com/pycharm/guide/tutorials/sphinx_sites/basic_formatting/\n",
    "- "
   ]
  },
  {
   "cell_type": "code",
   "execution_count": null,
   "id": "ee3f813c-fcd3-44b3-8d03-2c8554421df0",
   "metadata": {},
   "outputs": [],
   "source": []
  },
  {
   "cell_type": "markdown",
   "id": "98277a3b-cdf5-4b0c-b397-6a81f854b10e",
   "metadata": {},
   "source": [
    "# Jupiter als Version auf GitHub bringen und Versionen zurück holen\n",
    "\n",
    "- https://thenewstack.io/integrate-jupyter-notebooks-with-github/\n",
    "- https://stackoverflow.com/questions/48003022/jupyter-notebook-and-github"
   ]
  },
  {
   "cell_type": "code",
   "execution_count": null,
   "id": "2e3c464c-a2cf-49a7-8b2e-9a3131f4b82a",
   "metadata": {},
   "outputs": [],
   "source": []
  },
  {
   "cell_type": "code",
   "execution_count": null,
   "id": "d63e426b-7a27-4810-8653-4724d95e5d63",
   "metadata": {},
   "outputs": [],
   "source": []
  },
  {
   "cell_type": "code",
   "execution_count": null,
   "id": "df9eb2a5-bc7c-49fd-8436-b5bc58ae1b63",
   "metadata": {},
   "outputs": [],
   "source": []
  },
  {
   "cell_type": "markdown",
   "id": "e2edd38e-25f4-40de-862e-ea0c4cc4d636",
   "metadata": {},
   "source": [
    "# Pelican\n",
    "\n",
    "**Jupyter Pelican**\n",
    "\n",
    "- https://github.com/chrisalbon/notes/blob/master/make.ipynb\n",
    "- https://github.com/chrisalbon/notes\n",
    "- https://github.com/danielfrg/pelican-jupyter\n",
    "- https://pmbaumgartner.github.io/blog/jupyter-notebooks-for-pelican/\n",
    "- https://github.com/chuckpr/pelican-jupyter-reader\n",
    "- https://github.com/chuckpr/pelican-jupyter-reader/tree/main/demo\n",
    "- https://opensourcelibs.com/lib/pelican-jupyter\n",
    "- https://openbase.com/python/pelican-jupyter/documentation\n",
    "- https://github.com/AbdulSayyed/jupyter-pelican\n",
    "- **https://janakiev.com/blog/pelican-jupyter/**\n",
    "- http://www.legendu.net/misc/blog/use-jupyterlab-notebooks-in-pelican\n",
    "- **https://github.com/pelican-plugins**\n",
    "\n",
    "**Pelican themes**\n",
    "\n",
    "- https://docs.getpelican.com/en/stable/themes.html\n",
    "- https://github.com/dokelung/jojo/tree/4b834ae02807ec41556e18758143f41d0aa8f937  gut erklärt, mit Bild im trailer\n",
    "- https://github.com/claudio-walser/pelican-fh5co-marble/tree/b1264366d1381c87e2940dde5a34383f10ce7c69\n",
    "- https://github.com/getpelican/pelican-themes/tree/master/pelican-striped-html5up\n",
    "- https://github.com/nairobilug/pelican-alchemy\n",
    "- https://github.com/arulrajnet/attila  enthält viel"
   ]
  },
  {
   "cell_type": "code",
   "execution_count": null,
   "id": "53361f23-8ac7-4d2b-ab58-671c47d8a419",
   "metadata": {},
   "outputs": [],
   "source": []
  },
  {
   "cell_type": "code",
   "execution_count": 5,
   "id": "327c99e6-3442-4502-9f7b-143d1a32d807",
   "metadata": {},
   "outputs": [
    {
     "data": {
      "image/png": "[encoded data removed]",
      "text/plain": [
       "<Figure size 432x288 with 1 Axes>"
      ]
     },
     "metadata": {
      "needs_background": "light"
     },
     "output_type": "display_data"
    }
   ],
   "source": [
    "import numpy as np\n",
    "from scipy.interpolate import splprep, splev\n",
    "\n",
    "import matplotlib.pyplot as plt\n",
    "from matplotlib.path import Path\n",
    "from matplotlib.patches import PathPatch\n",
    "\n",
    "N = 400\n",
    "t = np.linspace(0, 2 * np.pi, N)\n",
    "r = 0.5 + np.cos(t)\n",
    "x, y = r * np.cos(t), r * np.sin(t)\n",
    "\n",
    "\n",
    "fig, ax = plt.subplots()\n",
    "ax.plot(x, y)\n",
    "plt.show()\n",
    "\n"
   ]
  },
  {
   "cell_type": "code",
   "execution_count": 6,
   "id": "edce5493-a689-40ec-9305-0d02cf0be2c6",
   "metadata": {},
   "outputs": [
    {
     "data": {
      "image/png": "[encoded data removed]",
      "text/plain": [
       "<Figure size 432x288 with 1 Axes>"
      ]
     },
     "metadata": {
      "needs_background": "light"
     },
     "output_type": "display_data"
    }
   ],
   "source": [
    "# Error amplitudes depending on the curve parameter *t*\n",
    "# (actual values are arbitrary and only for illustrative purposes):\n",
    "err = 0.05 * np.sin(2 * t) ** 2 + 0.04 + 0.02 * np.cos(9 * t + 2)\n",
    "\n",
    "# calculate normals via derivatives of splines\n",
    "tck, u = splprep([x, y], s=0)\n",
    "dx, dy = splev(u, tck, der=1)\n",
    "l = np.hypot(dx, dy)\n",
    "nx = dy / l\n",
    "ny = -dx / l\n",
    "\n",
    "# end points of errors\n",
    "xp = x + nx * err\n",
    "yp = y + ny * err\n",
    "xn = x - nx * err\n",
    "yn = y - ny * err\n",
    "\n",
    "vertices = np.block([[xp, xn[::-1]],\n",
    "                     [yp, yn[::-1]]]).T\n",
    "codes = Path.LINETO * np.ones(len(vertices), dtype=Path.code_type)\n",
    "codes[0] = codes[len(xp)] = Path.MOVETO\n",
    "path = Path(vertices, codes)\n",
    "\n",
    "patch = PathPatch(path, facecolor='C0', edgecolor='none', alpha=0.3)\n",
    "\n",
    "\n",
    "fig, ax = plt.subplots()\n",
    "ax.plot(x, y)\n",
    "ax.add_patch(patch)\n",
    "plt.show()\n"
   ]
  },
  {
   "cell_type": "markdown",
   "id": "e6ab9bf8-c6b5-492d-b0f0-e63cd6297051",
   "metadata": {},
   "source": [
    "# Jinja - python template engine\n",
    "\n",
    "- https://jinja.palletsprojects.com/en/3.0.x/\n",
    "- https://www.youtube.com/watch?v=-Q1LZQygStw \n",
    "\n",
    "\n",
    "\n",
    "### PyTorch, GPU\n",
    "\n",
    "- https://chrisalbon.com/code/deep_learning/pytorch/basics/check_if_pytorch_is_using_gpu/\n",
    "- https://www.amazon.com/Clean-Code-Python-maintainable-efficient/dp/1800560214?dchild=1&keywords=clean+code+in+python&qid=1613774923&sr=8-3&linkCode=sl1&tag=chrisalbon-20&linkId=6486b848f1198e477c80777c9616088b&language=en_US&ref_=as_li_ss_tl\n",
    "- https://pypi.org/project/markovify/\n",
    "- https://github.com/chrisalbon/sklearn-flask-docker\n",
    "- https://pmbaumgartner.github.io/blog/the-fastest-way-to-load-data-django-postgresql/\n",
    "\n",
    "### NLP, spacy\n",
    "\n",
    "- https://pmbaumgartner.github.io/blog/spacy-rule-based-matcher-workflow/\n",
    "- https://pmbaumgartner.github.io/blog/applied-nlp-lessons/\n",
    "- https://pmbaumgartner.github.io/blog/notes-on-nlp-projects/\n",
    "- https://pmbaumgartner.github.io/blog/holy-nlp/\n",
    "\n",
    "\n",
    "### REST API mit Python\n",
    "\n",
    "- https://www.youtube.com/watch?v=W6JvboT8Uo8"
   ]
  },
  {
   "cell_type": "code",
   "execution_count": null,
   "id": "019f1e82-9958-4dc8-824f-1037df2b078a",
   "metadata": {},
   "outputs": [],
   "source": []
  },
  {
   "cell_type": "code",
   "execution_count": null,
   "id": "ad088722-3471-4c1b-89fc-1fa3ff9453e7",
   "metadata": {},
   "outputs": [],
   "source": []
  },
  {
   "cell_type": "code",
   "execution_count": 19,
   "id": "13353650-ac4a-44cd-b0d5-d05adec41796",
   "metadata": {},
   "outputs": [
    {
     "data": {
      "text/plain": [
       "1348.2"
      ]
     },
     "execution_count": 19,
     "metadata": {},
     "output_type": "execute_result"
    }
   ],
   "source": [
    "K_user = 10*9*12\n",
    "K_space = 30*0.5*12\n",
    "\n",
    "K = 1.07*(K_user + K_space)\n",
    "K"
   ]
  },
  {
   "cell_type": "code",
   "execution_count": null,
   "id": "a706a190-c4e3-41c3-ae6e-7eb1863ac486",
   "metadata": {},
   "outputs": [],
   "source": []
  },
  {
   "cell_type": "code",
   "execution_count": null,
   "id": "c2899afb-f42a-45e8-8e48-7895847b1da6",
   "metadata": {},
   "outputs": [],
   "source": []
  }
 ],
 "metadata": {
  "kernelspec": {
   "display_name": "Python 3 (ipykernel)",
   "language": "python",
   "name": "python3"
  },
  "language_info": {
   "codemirror_mode": {
    "name": "ipython",
    "version": 3
   },
   "file_extension": ".py",
   "mimetype": "text/x-python",
   "name": "python",
   "nbconvert_exporter": "python",
   "pygments_lexer": "ipython3",
   "version": "3.9.5"
  }
 },
 "nbformat": 4,
 "nbformat_minor": 5
}
